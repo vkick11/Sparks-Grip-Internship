{
 "cells": [
  {
   "cell_type": "markdown",
   "id": "annual-bangladesh",
   "metadata": {},
   "source": [
    "# Task 2 : Prediction using Unsupervised ML\n",
    "From the given 'Iris' dataset, predict the optimum number of clusters and represent it visually.<br>\n",
    "Data at [https://bit.ly/3kXTdox](https://bit.ly/3kXTdox)\n",
    "## Author : Vedant Kadam\n",
    "\n",
    "Before doing anything else let's put the import statements at the top."
   ]
  },
  {
   "cell_type": "code",
   "execution_count": 1,
   "id": "welsh-swing",
   "metadata": {},
   "outputs": [],
   "source": [
    "import numpy as np\n",
    "import matplotlib.pyplot as plt\n",
    "import pandas as pd"
   ]
  },
  {
   "cell_type": "markdown",
   "id": "reverse-posting",
   "metadata": {},
   "source": [
    "Now let's download the data and load it into a pandas DataFrame"
   ]
  },
  {
   "cell_type": "code",
   "execution_count": 3,
   "id": "inside-system",
   "metadata": {},
   "outputs": [
    {
     "data": {
      "text/html": [
       "<div>\n",
       "<style scoped>\n",
       "    .dataframe tbody tr th:only-of-type {\n",
       "        vertical-align: middle;\n",
       "    }\n",
       "\n",
       "    .dataframe tbody tr th {\n",
       "        vertical-align: top;\n",
       "    }\n",
       "\n",
       "    .dataframe thead th {\n",
       "        text-align: right;\n",
       "    }\n",
       "</style>\n",
       "<table border=\"1\" class=\"dataframe\">\n",
       "  <thead>\n",
       "    <tr style=\"text-align: right;\">\n",
       "      <th></th>\n",
       "      <th>SepalLengthCm</th>\n",
       "      <th>SepalWidthCm</th>\n",
       "      <th>PetalLengthCm</th>\n",
       "      <th>PetalWidthCm</th>\n",
       "      <th>Species</th>\n",
       "    </tr>\n",
       "    <tr>\n",
       "      <th>Id</th>\n",
       "      <th></th>\n",
       "      <th></th>\n",
       "      <th></th>\n",
       "      <th></th>\n",
       "      <th></th>\n",
       "    </tr>\n",
       "  </thead>\n",
       "  <tbody>\n",
       "    <tr>\n",
       "      <th>1</th>\n",
       "      <td>5.1</td>\n",
       "      <td>3.5</td>\n",
       "      <td>1.4</td>\n",
       "      <td>0.2</td>\n",
       "      <td>Iris-setosa</td>\n",
       "    </tr>\n",
       "    <tr>\n",
       "      <th>2</th>\n",
       "      <td>4.9</td>\n",
       "      <td>3.0</td>\n",
       "      <td>1.4</td>\n",
       "      <td>0.2</td>\n",
       "      <td>Iris-setosa</td>\n",
       "    </tr>\n",
       "    <tr>\n",
       "      <th>3</th>\n",
       "      <td>4.7</td>\n",
       "      <td>3.2</td>\n",
       "      <td>1.3</td>\n",
       "      <td>0.2</td>\n",
       "      <td>Iris-setosa</td>\n",
       "    </tr>\n",
       "    <tr>\n",
       "      <th>4</th>\n",
       "      <td>4.6</td>\n",
       "      <td>3.1</td>\n",
       "      <td>1.5</td>\n",
       "      <td>0.2</td>\n",
       "      <td>Iris-setosa</td>\n",
       "    </tr>\n",
       "    <tr>\n",
       "      <th>5</th>\n",
       "      <td>5.0</td>\n",
       "      <td>3.6</td>\n",
       "      <td>1.4</td>\n",
       "      <td>0.2</td>\n",
       "      <td>Iris-setosa</td>\n",
       "    </tr>\n",
       "  </tbody>\n",
       "</table>\n",
       "</div>"
      ],
      "text/plain": [
       "    SepalLengthCm  SepalWidthCm  PetalLengthCm  PetalWidthCm      Species\n",
       "Id                                                                       \n",
       "1             5.1           3.5            1.4           0.2  Iris-setosa\n",
       "2             4.9           3.0            1.4           0.2  Iris-setosa\n",
       "3             4.7           3.2            1.3           0.2  Iris-setosa\n",
       "4             4.6           3.1            1.5           0.2  Iris-setosa\n",
       "5             5.0           3.6            1.4           0.2  Iris-setosa"
      ]
     },
     "execution_count": 3,
     "metadata": {},
     "output_type": "execute_result"
    }
   ],
   "source": [
    "data=pd.read_csv(\"Iris.csv\",index_col=0)\n",
    "data.head()"
   ]
  },
  {
   "cell_type": "markdown",
   "id": "sized-honor",
   "metadata": {},
   "source": [
    "Now that we have the dataset let's see how to find the number of clusters to use. This can be determined with the elbow method<br>\n",
    "In the Elbow method, we are actually varying the number of clusters ( K ) from 1 – 10.<br> For each value of K, we are calculating WCSS ( Within-Cluster Sum of Square ). WCSS is the sum of squared distance between each point and the centroid in a cluster.<br> When we plot the WCSS with the K value, the plot looks like an Elbow.<br> As the number of clusters increases, the WCSS value will start to decrease.<br> WCSS value is largest when K = 1.<br> When we analyze the graph we can see that the graph will rapidly change at a point and thus creating an elbow shape.<br> From this point, the graph starts to move almost parallel to the X-axis.<br> The K value corresponding to this point is the optimal K value or an optimal number of clusters.\n",
    "\n",
    "**So let's use the KMeans module of scikitlearn and plot the WCSS value for each value of k**"
   ]
  },
  {
   "cell_type": "code",
   "execution_count": 4,
   "id": "peaceful-graphic",
   "metadata": {},
   "outputs": [
    {
     "data": {
      "image/png": "[encoded data removed]",
      "text/plain": [
       "<Figure size 432x288 with 1 Axes>"
      ]
     },
     "metadata": {
      "needs_background": "light"
     },
     "output_type": "display_data"
    }
   ],
   "source": [
    "from sklearn.cluster import KMeans\n",
    "X = data.iloc[:, :4].values\n",
    "WCSS_vals=[]\n",
    "for i in range(1,15):\n",
    "    kmeans=KMeans(n_clusters=i,init='k-means++',random_state = 3)\n",
    "    kmeans.fit(X)\n",
    "    WCSS_vals.append(kmeans.inertia_)\n",
    "plt.plot(range(1, 15), WCSS_vals)\n",
    "plt.xlabel('Number of clusters')\n",
    "plt.ylabel('WCSS') \n",
    "plt.scatter(3,78.94084142614601,s=200,facecolors='none',edgecolors='red')\n",
    "plt.show()"
   ]
  },
  {
   "cell_type": "markdown",
   "id": "former-progressive",
   "metadata": {},
   "source": [
    "As we can see from the above graph the elbow in the graph is at **k=3**. So the **ideal value for k is '3'**\n",
    "\n",
    "Now that we know the ideal k value let's build the classifier and use it to predict the clusters"
   ]
  },
  {
   "cell_type": "code",
   "execution_count": 5,
   "id": "ahead-athletics",
   "metadata": {},
   "outputs": [
    {
     "name": "stdout",
     "output_type": "stream",
     "text": [
      "[0 0 0 0 0 0 0 0 0 0 0 0 0 0 0 0 0 0 0 0 0 0 0 0 0 0 0 0 0 0 0 0 0 0 0 0 0\n",
      " 0 0 0 0 0 0 0 0 0 0 0 0 0 1 1 2 1 1 1 1 1 1 1 1 1 1 1 1 1 1 1 1 1 1 1 1 1\n",
      " 1 1 1 2 1 1 1 1 1 1 1 1 1 1 1 1 1 1 1 1 1 1 1 1 1 1 2 1 2 2 2 2 1 2 2 2 2\n",
      " 2 2 1 1 2 2 2 2 1 2 1 2 1 2 2 1 1 2 2 2 2 2 1 2 2 2 2 1 2 2 2 1 2 2 2 1 2\n",
      " 2 1]\n"
     ]
    }
   ],
   "source": [
    "kmeans=KMeans(n_clusters=3,init='k-means++',random_state = 3)\n",
    "Y=kmeans.fit_predict(X)\n",
    "print(Y)"
   ]
  },
  {
   "cell_type": "markdown",
   "id": "revised-bobby",
   "metadata": {},
   "source": [
    "Now let's plot a graph to visualise the centroids accuracy.<br> We will have SepalWidthCm on Y axis, SepalLengthCm on X axis and the color will signify the species."
   ]
  },
  {
   "cell_type": "code",
   "execution_count": 6,
   "id": "absent-welding",
   "metadata": {},
   "outputs": [
    {
     "data": {
      "image/png": "[encoded data removed]",
      "text/plain": [
       "<Figure size 640x480 with 1 Axes>"
      ]
     },
     "metadata": {
      "needs_background": "light"
     },
     "output_type": "display_data"
    }
   ],
   "source": [
    "from matplotlib.pyplot import figure\n",
    "\n",
    "figure(figsize=(8, 6), dpi=80)\n",
    "plt.xlabel('SepalLengthCm')\n",
    "plt.ylabel('SepalWidthCm')\n",
    "plt.scatter(X[Y == 0, 0], X[Y == 0, 1],s = 100, c = 'red', label = 'setosa')\n",
    "plt.scatter(X[Y == 1, 0], X[Y == 1, 1],s = 100, c = 'blue', label = 'versicolour')\n",
    "plt.scatter(X[Y == 2, 0], X[Y == 2, 1],s = 100, c = 'green', label = 'virginica')\n",
    "plt.scatter(kmeans.cluster_centers_[:, 0], kmeans.cluster_centers_[:,1],s = 100, c = 'yellow', label = 'Centroids')\n",
    "plt.legend()\n",
    "plt.show()"
   ]
  },
  {
   "cell_type": "markdown",
   "id": "separated-proof",
   "metadata": {},
   "source": [
    "We can see from this that the centroids are close enough to the species and also are correctly shown in the graph."
   ]
  },
  {
   "cell_type": "code",
   "execution_count": null,
   "id": "assisted-cisco",
   "metadata": {},
   "outputs": [],
   "source": []
  }
 ],
 "metadata": {
  "kernelspec": {
   "display_name": "Python 3 (ipykernel)",
   "language": "python",
   "name": "python3"
  },
  "language_info": {
   "codemirror_mode": {
    "name": "ipython",
    "version": 3
   },
   "file_extension": ".py",
   "mimetype": "text/x-python",
   "name": "python",
   "nbconvert_exporter": "python",
   "pygments_lexer": "ipython3",
   "version": "3.9.12"
  }
 },
 "nbformat": 4,
 "nbformat_minor": 5
}
